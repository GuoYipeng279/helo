{
 "cells": [
  {
   "cell_type": "code",
   "execution_count": 21,
   "metadata": {},
   "outputs": [],
   "source": [
    "import pandas as pd\n",
    "import os\n",
    "for i,j,k in os.walk('xls'):\n",
    "    pass\n",
    "dfs = []\n",
    "cons = []\n",
    "for i in k:\n",
    "    df = pd.read_excel('xls\\\\'+i,header=2)\n",
    "    dfs.append(df[4:37])\n",
    "    dfs[-1] = dfs[-1].rename(columns={'Partner country':'partner'})\n",
    "    cons.append(list(dfs[-1].columns)[2])\n"
   ]
  },
  {
   "cell_type": "code",
   "execution_count": 22,
   "metadata": {},
   "outputs": [
    {
     "data": {
      "text/html": [
       "<div>\n",
       "<style scoped>\n",
       "    .dataframe tbody tr th:only-of-type {\n",
       "        vertical-align: middle;\n",
       "    }\n",
       "\n",
       "    .dataframe tbody tr th {\n",
       "        vertical-align: top;\n",
       "    }\n",
       "\n",
       "    .dataframe thead th {\n",
       "        text-align: right;\n",
       "    }\n",
       "</style>\n",
       "<table border=\"1\" class=\"dataframe\">\n",
       "  <thead>\n",
       "    <tr style=\"text-align: right;\">\n",
       "      <th></th>\n",
       "      <th>partner</th>\n",
       "      <th>Unnamed: 1</th>\n",
       "      <th>Sweden</th>\n",
       "      <th>Unnamed: 3</th>\n",
       "      <th>Unnamed: 4</th>\n",
       "      <th>Unnamed: 5</th>\n",
       "      <th>Unnamed: 6</th>\n",
       "      <th>Unnamed: 7</th>\n",
       "      <th>Unnamed: 8</th>\n",
       "      <th>Unnamed: 9</th>\n",
       "      <th>Unnamed: 10</th>\n",
       "    </tr>\n",
       "  </thead>\n",
       "  <tbody>\n",
       "    <tr>\n",
       "      <th>4</th>\n",
       "      <td>Australia</td>\n",
       "      <td>NaN</td>\n",
       "      <td>19602498</td>\n",
       "      <td>30638683</td>\n",
       "      <td>18703245</td>\n",
       "      <td>39276888</td>\n",
       "      <td>18128310</td>\n",
       "      <td>45911851</td>\n",
       "      <td>7372352</td>\n",
       "      <td>19267292</td>\n",
       "      <td>7312805</td>\n",
       "    </tr>\n",
       "    <tr>\n",
       "      <th>5</th>\n",
       "      <td>Austria</td>\n",
       "      <td>NaN</td>\n",
       "      <td>151655864</td>\n",
       "      <td>154609544</td>\n",
       "      <td>154677392</td>\n",
       "      <td>125544040</td>\n",
       "      <td>139528905</td>\n",
       "      <td>169032926</td>\n",
       "      <td>190030732</td>\n",
       "      <td>186319953</td>\n",
       "      <td>135128698</td>\n",
       "    </tr>\n",
       "    <tr>\n",
       "      <th>6</th>\n",
       "      <td>Belgium</td>\n",
       "      <td>NaN</td>\n",
       "      <td>577336173</td>\n",
       "      <td>530946352</td>\n",
       "      <td>523988776</td>\n",
       "      <td>452114268</td>\n",
       "      <td>489318223</td>\n",
       "      <td>548260067</td>\n",
       "      <td>641153212</td>\n",
       "      <td>624175625</td>\n",
       "      <td>514698095</td>\n",
       "    </tr>\n",
       "    <tr>\n",
       "      <th>7</th>\n",
       "      <td>Canada</td>\n",
       "      <td>NaN</td>\n",
       "      <td>25393351</td>\n",
       "      <td>28851424</td>\n",
       "      <td>25112384</td>\n",
       "      <td>50804522</td>\n",
       "      <td>22718442</td>\n",
       "      <td>26916570</td>\n",
       "      <td>23258445</td>\n",
       "      <td>22442892</td>\n",
       "      <td>36008912</td>\n",
       "    </tr>\n",
       "    <tr>\n",
       "      <th>8</th>\n",
       "      <td>Chile</td>\n",
       "      <td>NaN</td>\n",
       "      <td>5843571</td>\n",
       "      <td>10793165</td>\n",
       "      <td>25387901</td>\n",
       "      <td>10107169</td>\n",
       "      <td>6743721</td>\n",
       "      <td>25736405</td>\n",
       "      <td>24169198</td>\n",
       "      <td>5629781</td>\n",
       "      <td>36062890</td>\n",
       "    </tr>\n",
       "  </tbody>\n",
       "</table>\n",
       "</div>"
      ],
      "text/plain": [
       "     partner  Unnamed: 1     Sweden Unnamed: 3 Unnamed: 4 Unnamed: 5  \\\n",
       "4  Australia         NaN   19602498   30638683   18703245   39276888   \n",
       "5    Austria         NaN  151655864  154609544  154677392  125544040   \n",
       "6    Belgium         NaN  577336173  530946352  523988776  452114268   \n",
       "7     Canada         NaN   25393351   28851424   25112384   50804522   \n",
       "8      Chile         NaN    5843571   10793165   25387901   10107169   \n",
       "\n",
       "  Unnamed: 6 Unnamed: 7 Unnamed: 8 Unnamed: 9 Unnamed: 10  \n",
       "4   18128310   45911851    7372352   19267292     7312805  \n",
       "5  139528905  169032926  190030732  186319953   135128698  \n",
       "6  489318223  548260067  641153212  624175625   514698095  \n",
       "7   22718442   26916570   23258445   22442892    36008912  \n",
       "8    6743721   25736405   24169198    5629781    36062890  "
      ]
     },
     "execution_count": 22,
     "metadata": {},
     "output_type": "execute_result"
    }
   ],
   "source": [
    "dfs[2].head()"
   ]
  },
  {
   "cell_type": "code",
   "execution_count": 23,
   "metadata": {},
   "outputs": [],
   "source": [
    "import numpy as np\n",
    "matr = np.zeros((38,38))\n",
    "index_dict = dict()\n",
    "for i,j in enumerate(cons):\n",
    "    index_dict[j] = i\n",
    "for con, df in zip(cons,dfs):\n",
    "    for partner in cons:\n",
    "        query = np.array(df.query(\"partner == '{}'\".format(partner)))\n",
    "        qq = 0. if len(query)==0 or query[0][2]=='..' else query[0][2]\n",
    "        matr[index_dict.get(con), index_dict.get(partner)] = qq"
   ]
  },
  {
   "cell_type": "code",
   "execution_count": 59,
   "metadata": {},
   "outputs": [
    {
     "name": "stdout",
     "output_type": "stream",
     "text": [
      "[[0.         1.96697719 1.9791666  ... 1.9782112  1.95591534 1.58997162]\n",
      " [1.96697719 0.         1.9526615  ... 1.97509447 1.7576172  1.97172707]\n",
      " [1.9791666  1.9526615  0.         ... 1.84591455 1.9259352  1.98107724]\n",
      " ...\n",
      " [1.9782112  1.97509447 1.84591455 ... 0.         1.97522632 1.99723325]\n",
      " [1.95591534 1.7576172  1.9259352  ... 1.97522632 0.         1.96583055]\n",
      " [1.58997162 1.97172707 1.98107724 ... 1.99723325 1.96583055 0.        ]]\n"
     ]
    },
    {
     "data": {
      "image/png": "[encoded data removed]",
      "text/plain": [
       "<Figure size 432x288 with 1 Axes>"
      ]
     },
     "metadata": {
      "needs_background": "light"
     },
     "output_type": "display_data"
    }
   ],
   "source": [
    "from matplotlib import pyplot as plt\n",
    "for i in range(38):\n",
    "    if max(matr[:,i])<1:\n",
    "        matr[:,i] = matr[i]\n",
    "matr1 = matr+matr.T\n",
    "matr2 = np.zeros_like(matr1)\n",
    "# for i in range(38):\n",
    "#     matr1[i] /= sum(matr1[i])\n",
    "for i in range(38):\n",
    "    for j in range(38):\n",
    "        matr2[i,j] = sum(matr1[i])+sum(matr1[j])/matr1[i,j]\n",
    "matr2 = 2-matr2\n",
    "for i in range(38):\n",
    "    matr2[i,i] = 0\n",
    "print(matr2)\n",
    "plt.imshow(matr2,cmap='gray')\n",
    "plt.show()"
   ]
  },
  {
   "cell_type": "code",
   "execution_count": 41,
   "metadata": {},
   "outputs": [],
   "source": [
    "dff = pd.DataFrame(matr,columns=cons)\n",
    "dff.to_csv('data.csv', header=cons,index=None)"
   ]
  },
  {
   "cell_type": "code",
   "execution_count": 60,
   "metadata": {},
   "outputs": [],
   "source": [
    "dff1 = pd.DataFrame(matr2,columns=cons)\n",
    "dff1.to_csv('data1.csv', header=cons,index=None)"
   ]
  }
 ],
 "metadata": {
  "interpreter": {
   "hash": "e288d816212da5324a290161aa1057ff477b98a9261ac15925589a3ec64d30b6"
  },
  "kernelspec": {
   "display_name": "Python 3.7.4 ('base')",
   "language": "python",
   "name": "python3"
  },
  "language_info": {
   "codemirror_mode": {
    "name": "ipython",
    "version": 3
   },
   "file_extension": ".py",
   "mimetype": "text/x-python",
   "name": "python",
   "nbconvert_exporter": "python",
   "pygments_lexer": "ipython3",
   "version": "3.10.2"
  },
  "orig_nbformat": 4
 },
 "nbformat": 4,
 "nbformat_minor": 2
}
